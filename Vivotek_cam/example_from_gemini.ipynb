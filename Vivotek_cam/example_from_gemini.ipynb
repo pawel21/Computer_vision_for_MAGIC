{
 "cells": [
  {
   "cell_type": "code",
   "execution_count": 1,
   "id": "77926276-288f-4f76-9874-85f49a880521",
   "metadata": {},
   "outputs": [],
   "source": [
    "import cv2\n",
    "import numpy as np\n",
    "import os\n",
    "from sklearn.cluster import KMeans\n",
    "from sklearn.preprocessing import StandardScaler\n",
    "import matplotlib.pyplot as plt\n",
    "import shutil\n",
    "\n"
   ]
  },
  {
   "cell_type": "code",
   "execution_count": 3,
   "id": "44b3bebb-c2af-43b5-8103-62a2c94ce097",
   "metadata": {},
   "outputs": [
    {
     "name": "stdout",
     "output_type": "stream",
     "text": [
      "Stworzono 15 przykładowych obrazów w folderze 'test_images'.\n",
      "Zebrano dane. Kształt macierzy cech: (15, 128)\n",
      "Dane zostały znormalizowane.\n",
      "Wynikowe etykiety klastrów: [2 0 1 0 1 0 1 1 0 1 0 2 0 0 2]\n"
     ]
    },
    {
     "data": {
      "image/png": "[encoded data removed]",
      "text/plain": [
       "<Figure size 1000x300 with 7 Axes>"
      ]
     },
     "metadata": {},
     "output_type": "display_data"
    },
    {
     "data": {
      "image/png": "[encoded data removed]",
      "text/plain": [
       "<Figure size 1000x300 with 5 Axes>"
      ]
     },
     "metadata": {},
     "output_type": "display_data"
    },
    {
     "data": {
      "image/png": "[encoded data removed]",
      "text/plain": [
       "<Figure size 1000x300 with 3 Axes>"
      ]
     },
     "metadata": {},
     "output_type": "display_data"
    }
   ],
   "source": [
    "# --- KROK 0: Funkcja do ekstrakcji cech (tylko kolor) ---\n",
    "def extract_color_features(image):\n",
    "    \"\"\"\n",
    "    Konwertuje obraz do przestrzeni HSV i oblicza histogram kolorów.\n",
    "    \"\"\"\n",
    "    if len(image.shape) < 3 or image.shape[2] == 1:\n",
    "        image = cv2.cvtColor(image, cv2.COLOR_GRAY2BGR)\n",
    "    \n",
    "    hsv_image = cv2.cvtColor(image, cv2.COLOR_BGR2HSV)\n",
    "    hist = cv2.calcHist([hsv_image], [0, 1, 2], None, [8, 4, 4], [0, 180, 0, 256, 0, 256])\n",
    "    cv2.normalize(hist, hist)\n",
    "    return hist.flatten()\n",
    "\n",
    "# --- KROK 1: Przygotowanie przykładowych danych (tak samo jak poprzednio) ---\n",
    "if os.path.exists('test_images'):\n",
    "    shutil.rmtree('test_images')\n",
    "os.makedirs('test_images')\n",
    "\n",
    "# Obrazy \"czerwone\"\n",
    "for i in range(5):\n",
    "    img = np.zeros((80, 85, 3), dtype=np.uint8)\n",
    "    img[:, :, 2] = np.random.randint(150, 255)\n",
    "    img[:, :, 1] = np.random.randint(0, 100)\n",
    "    cv2.imwrite(f'test_images/red_{i}.png', img)\n",
    "\n",
    "# Obrazy \"niebieskie\"\n",
    "for i in range(5):\n",
    "    img = np.zeros((80, 85, 3), dtype=np.uint8)\n",
    "    img[:, :, 0] = np.random.randint(150, 255)\n",
    "    cv2.imwrite(f'test_images/blue_{i}.png', img)\n",
    "\n",
    "# Obrazy z teksturą (ich kolor to głównie czerń i biel)\n",
    "for i in range(5):\n",
    "    img = np.zeros((80, 85, 3), dtype=np.uint8)\n",
    "    for col in range(0, 85, 10):\n",
    "        img[:, col:col+5] = 255\n",
    "    cv2.imwrite(f'test_images/striped_{i}.png', img)\n",
    "\n",
    "print(\"Stworzono 15 przykładowych obrazów w folderze 'test_images'.\")\n",
    "\n",
    "\n",
    "# --- KROK 2: Zebranie wektorów cech dla wszystkich obrazów ---\n",
    "image_dir = 'test_images'\n",
    "all_features = []\n",
    "image_paths = []\n",
    "\n",
    "for filename in os.listdir(image_dir):\n",
    "    path = os.path.join(image_dir, filename)\n",
    "    image = cv2.imread(path)\n",
    "    if image is not None:\n",
    "        \n",
    "        # ZMIANA TUTAJ: Używamy już tylko jednej funkcji\n",
    "        # Nie ma potrzeby łączenia wektorów\n",
    "        feature_vector = extract_color_features(image)\n",
    "        \n",
    "        all_features.append(feature_vector)\n",
    "        image_paths.append(path)\n",
    "\n",
    "# Konwersja listy wektorów na macierz NumPy\n",
    "data = np.array(all_features)\n",
    "print(f\"Zebrano dane. Kształt macierzy cech: {data.shape}\")\n",
    "\n",
    "# --- KROK 3: Normalizacja danych (nadal bardzo ważna!) ---\n",
    "scaler = StandardScaler()\n",
    "scaled_data = scaler.fit_transform(data)\n",
    "print(\"Dane zostały znormalizowane.\")\n",
    "\n",
    "# --- KROK 4: Uruchomienie K-Means ---\n",
    "k = 3\n",
    "kmeans = KMeans(n_clusters=k, random_state=42, n_init=10)\n",
    "kmeans.fit(scaled_data)\n",
    "labels = kmeans.labels_\n",
    "print(f\"Wynikowe etykiety klastrów: {labels}\")\n",
    "\n",
    "# --- KROK 5: Wizualizacja wyników (bez zmian) ---\n",
    "clusters = {i: [] for i in range(k)}\n",
    "for path, label in zip(image_paths, labels):\n",
    "    clusters[label].append(path)\n",
    "\n",
    "for cluster_id, paths in clusters.items():\n",
    "    fig, axes = plt.subplots(1, len(paths), figsize=(10, 3))\n",
    "    fig.suptitle(f'--- Klaster {cluster_id} ---', fontsize=16)\n",
    "    if len(paths) == 1: axes = [axes]\n",
    "    for ax, path in zip(axes, paths):\n",
    "        img = cv2.imread(path)\n",
    "        ax.imshow(cv2.cvtColor(img, cv2.COLOR_BGR2RGB))\n",
    "        ax.axis('off')\n",
    "        ax.set_title(os.path.basename(path).split('.')[0])\n",
    "    plt.show()\n",
    "\n"
   ]
  },
  {
   "cell_type": "code",
   "execution_count": null,
   "id": "e5824edb-914f-4cf0-a69e-39e6e094b81d",
   "metadata": {},
   "outputs": [],
   "source": [
    "# Czyszczenie\n",
    "shutil.rmtree('test_images')"
   ]
  },
  {
   "cell_type": "code",
   "execution_count": null,
   "id": "9f8d8960-16e5-4187-b4b0-97e618b6564d",
   "metadata": {},
   "outputs": [],
   "source": []
  }
 ],
 "metadata": {
  "kernelspec": {
   "display_name": "Python 3 (ipykernel)",
   "language": "python",
   "name": "python3"
  },
  "language_info": {
   "codemirror_mode": {
    "name": "ipython",
    "version": 3
   },
   "file_extension": ".py",
   "mimetype": "text/x-python",
   "name": "python",
   "nbconvert_exporter": "python",
   "pygments_lexer": "ipython3",
   "version": "3.12.11"
  }
 },
 "nbformat": 4,
 "nbformat_minor": 5
}
