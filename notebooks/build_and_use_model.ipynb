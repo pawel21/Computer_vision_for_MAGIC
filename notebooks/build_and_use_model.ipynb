{
 "cells": [
  {
   "cell_type": "code",
   "execution_count": 1,
   "id": "69c3c3ce-d759-420b-b1b6-ed68013417df",
   "metadata": {},
   "outputs": [],
   "source": [
    "import matplotlib.pyplot as plt\n",
    "import numpy as np\n",
    "import glob\n",
    "import pandas as pd\n",
    "\n",
    "import plotly.graph_objects as go\n",
    "from plotly.subplots import make_subplots\n",
    "import ipywidgets as widgets\n",
    "from IPython.display import display, Image as IPImage\n",
    "\n",
    "from PIL import Image\n",
    "\n",
    "from ipywidgets import interact, Dropdown, IntText\n",
    "\n",
    "import cv2\n",
    "from skimage import feature\n",
    "from scipy.stats import skew, kurtosis\n",
    "from sklearn.feature_selection import mutual_info_classif, SelectKBest\n",
    "from sklearn.decomposition import PCA\n",
    "import numpy as np\n",
    "\n",
    "from MirrorExtractor.mirror_extractor import MirrorExtractor\n",
    "\n",
    "from sklearn.ensemble import IsolationForest"
   ]
  },
  {
   "cell_type": "code",
   "execution_count": 19,
   "id": "610dab1c-6aea-4e87-93e8-966586ce4112",
   "metadata": {},
   "outputs": [],
   "source": [
    "def show_image(image_path, mirror_id):\n",
    "    img = Image.open(image_path)\n",
    "    x_coords, y_coords = extractor.get_coords(mirror_id)\n",
    "    \n",
    "    plt.figure(figsize=(10, 8))\n",
    "    plt.plot(x_coords, y_coords, 'r-', lw=2)\n",
    "    plt.scatter(x_coords[:-1], y_coords[:-1], c='cyan', s=30)\n",
    "    plt.imshow(img)\n",
    "    plt.axis('off')\n",
    "    text_title = image_path.split('/')[-1] + \"mirror id:\" + str(mirror_id)\n",
    "    plt.title(text_title)\n",
    "    plt.show()\n",
    "\n",
    "def extract_one_mirror_from_images(img_path_list, mirror_id, extractor):\n",
    "    mirror_list = []\n",
    "    for path in img_path_list:\n",
    "        img = np.array(Image.open(path).convert('RGB'))\n",
    "        x_coords, y_coords = extractor.get_coords(mirror_id)\n",
    "        cropped = extractor.extract_polygon_region_cv2(img, x_coords, y_coords)\n",
    "        mirror_list.append(cropped)\n",
    "    return mirror_list\n",
    "\n",
    "def get_one_mirror_features(mirror_img):\n",
    "    brightness = np.mean(mirror)\n",
    "    brightness_std = np.std(mirror)\n",
    "    return brightness\n",
    "    \n",
    "def compute_mirror_features(mirror_list):\n",
    "    \"\"\"\n",
    "    Oblicza cechy dla każdego lustra\n",
    "    \"\"\"\n",
    "    features_dict = {}\n",
    "    brightness_list = []\n",
    "    brightness_std_list = []\n",
    "    \n",
    "    \n",
    "    for mirror in mirror_list:\n",
    "        brightness_list.append(np.mean(mirror))\n",
    "        brightness_std_list.append(np.std(mirror))\n",
    "    \n",
    "    features_dict[\"brightness\"] = brightness_list\n",
    "    features_dict[\"brightness_std\"] = brightness_std_list\n",
    "    return features_dict"
   ]
  },
  {
   "cell_type": "markdown",
   "id": "7f7fae4a-fcce-4970-927c-83d0d194e437",
   "metadata": {},
   "source": [
    "## 1. Build base model with good images"
   ]
  },
  {
   "cell_type": "code",
   "execution_count": 20,
   "id": "cb5442b5-ca32-4440-a75d-1a141559ebd8",
   "metadata": {},
   "outputs": [],
   "source": [
    "extractor = MirrorExtractor(\"/home/pgliwny/Praca/Computer_vision_for_MAGIC/data/crossings_points.pkl\")"
   ]
  },
  {
   "cell_type": "code",
   "execution_count": 21,
   "id": "38eaa3d8-478a-4d45-a9f0-3d38ddce4fda",
   "metadata": {},
   "outputs": [
    {
     "name": "stdout",
     "output_type": "stream",
     "text": [
      "['/home/pgliwny/Praca/Computer_vision_for_MAGIC/data/webcam_useful_image/webcam_useful_images/image_2024-05-09_1500.jpg', '/home/pgliwny/Praca/Computer_vision_for_MAGIC/data/webcam_useful_image/webcam_useful_images/image_2023-01-04_1600.jpg', '/home/pgliwny/Praca/Computer_vision_for_MAGIC/data/webcam_useful_image/webcam_useful_images/image_2024-05-07_1600.jpg', '/home/pgliwny/Praca/Computer_vision_for_MAGIC/data/webcam_useful_image/webcam_useful_images/image_2024-05-04_1000.jpg', '/home/pgliwny/Praca/Computer_vision_for_MAGIC/data/webcam_useful_image/webcam_useful_images/image_2024-05-21_1700.jpg']\n"
     ]
    }
   ],
   "source": [
    "img_list = glob.glob(\"/home/pgliwny/Praca/Computer_vision_for_MAGIC/data/webcam_useful_image/webcam_useful_images/*.jpg\")\n",
    "print(img_list[:5])\n",
    "mirror_list_150 = extract_one_mirror_from_images(img_list[:], 150, extractor)\n",
    "mirror_list_50 = extract_one_mirror_from_images(img_list[:], 50, extractor)"
   ]
  },
  {
   "cell_type": "code",
   "execution_count": 23,
   "id": "a2d7492f-9b90-41cd-bd08-338e4a4d500e",
   "metadata": {},
   "outputs": [],
   "source": [
    "features_150 = compute_mirror_features(mirror_list_150)"
   ]
  },
  {
   "cell_type": "code",
   "execution_count": 26,
   "id": "251e65fa-ac46-4c86-b774-0fac943dca62",
   "metadata": {},
   "outputs": [
    {
     "data": {
      "text/plain": [
       "dict_keys(['brightness', 'brightness_std'])"
      ]
     },
     "execution_count": 26,
     "metadata": {},
     "output_type": "execute_result"
    }
   ],
   "source": [
    "features_150.keys()"
   ]
  },
  {
   "cell_type": "code",
   "execution_count": 22,
   "id": "4e8539d7-ce84-48de-9f8f-f9d6aef18a64",
   "metadata": {},
   "outputs": [
    {
     "name": "stdout",
     "output_type": "stream",
     "text": [
      "15\n",
      "50\n",
      "100\n"
     ]
    }
   ],
   "source": [
    "mirror_id_list = [15, 50, 100]\n",
    "\n",
    "for mirror_id in mirror_id_list:\n",
    "    print(mirror_id)"
   ]
  },
  {
   "cell_type": "code",
   "execution_count": 17,
   "id": "c9ab0e60-dc3d-4b56-9076-7eb55f94eee0",
   "metadata": {},
   "outputs": [],
   "source": [
    "mirror_status = np.ones(289)"
   ]
  },
  {
   "cell_type": "code",
   "execution_count": null,
   "id": "1ec34e1d-d149-474e-b459-cadd2cb0a4f5",
   "metadata": {},
   "outputs": [],
   "source": []
  }
 ],
 "metadata": {
  "kernelspec": {
   "display_name": "Python 3 (ipykernel)",
   "language": "python",
   "name": "python3"
  },
  "language_info": {
   "codemirror_mode": {
    "name": "ipython",
    "version": 3
   },
   "file_extension": ".py",
   "mimetype": "text/x-python",
   "name": "python",
   "nbconvert_exporter": "python",
   "pygments_lexer": "ipython3",
   "version": "3.11.13"
  }
 },
 "nbformat": 4,
 "nbformat_minor": 5
}
