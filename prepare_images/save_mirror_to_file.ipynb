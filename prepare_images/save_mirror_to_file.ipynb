{
 "cells": [
  {
   "cell_type": "code",
   "execution_count": 1,
   "id": "85751d4a-6ac0-4eaa-a9f7-9470627e06bb",
   "metadata": {},
   "outputs": [],
   "source": [
    "%load_ext autoreload\n",
    "%autoreload 2\n",
    "    \n",
    "import numpy as np\n",
    "import matplotlib.pyplot as plt\n",
    "import matplotlib.image as mpimg\n",
    "\n",
    "import pickle \n",
    "from matplotlib.path import Path\n",
    "from PIL import Image\n",
    "import cv2\n",
    "\n",
    "import glob\n",
    "import os\n",
    "import h5py\n",
    "\n",
    "from utils import get_matrix_points, get_coords\n"
   ]
  },
  {
   "cell_type": "code",
   "execution_count": 13,
   "id": "a9bd7c83-0e26-4dc9-835b-f70365aebff3",
   "metadata": {},
   "outputs": [],
   "source": [
    "%reload_ext autoreload"
   ]
  },
  {
   "cell_type": "code",
   "execution_count": 2,
   "id": "be4736dd-668d-45ec-bab2-69320e57663e",
   "metadata": {},
   "outputs": [],
   "source": [
    "ROWS, COLS = 18, 18\n",
    "\n",
    "def process_webcam_images(path):\n",
    "    img = Image.open(path).convert(\"L\")\n",
    "\n",
    "def get_mirror(m_points, idx, image):\n",
    "    indices = [(i, j) for i in range(ROWS - 1) for j in range(COLS - 1)]\n",
    "    N = len(indices)\n",
    "    state = {'idx': idx}\n",
    "\n",
    "    x, y = get_coords(state, indices, m_points)\n",
    "\n",
    "    mirror = extract_polygon_region_cv2_from_image(image, x, y)\n",
    "    return mirror\n",
    "\n",
    "def extract_polygon_region_cv2_from_image(img, x_coords, y_coords):\n",
    "    \"\"\"\n",
    "    Extracts a polygonal region from an image and returns it as a new (cropped) image.\n",
    "    Args:\n",
    "        img: Input image.\n",
    "        x_coords, y_coords: Lists of x and y coordinates of polygon vertices.\n",
    "\n",
    "    Returns:\n",
    "        Cropped polygon region as a new image.\n",
    "    \"\"\"\n",
    "\n",
    "    # Wczytaj obraz w skali szarości\n",
    "    # img = np.array(Image.open(img_path).convert('L'))  # -> shape: (H, W), dtype: uint8\n",
    "    \n",
    "    # Przekształć punkty wielokąta\n",
    "    pts = np.array(list(zip(x_coords, y_coords)), dtype=np.int32)\n",
    "    pts = pts.reshape((-1, 1, 2))\n",
    "    \n",
    "    # Maska binarna o tym samym rozmiarze\n",
    "    mask = np.zeros(img.shape, dtype=np.uint8)\n",
    "    cv2.fillPoly(mask, [pts], color=255)\n",
    "    \n",
    "    # Nałożenie maski\n",
    "    masked_img = cv2.bitwise_and(img, img, mask=mask)\n",
    "    \n",
    "    # Przycięcie do prostokąta ograniczającego\n",
    "    x, y, w, h = cv2.boundingRect(pts)\n",
    "    cropped = masked_img[y:y+h, x:x+w]\n",
    "\n",
    "    return cropped"
   ]
  },
  {
   "cell_type": "code",
   "execution_count": 4,
   "id": "e1d06bd8-b3bb-4c49-9cd0-f0986833fd11",
   "metadata": {},
   "outputs": [],
   "source": [
    "with open(\"good_images_name.txt\", \"r\") as f:\n",
    "    good_images_list = f.readlines()"
   ]
  },
  {
   "cell_type": "code",
   "execution_count": null,
   "id": "e61effc5-e68b-48ec-9da0-56dd2dcd2fb0",
   "metadata": {},
   "outputs": [],
   "source": []
  },
  {
   "cell_type": "code",
   "execution_count": 15,
   "id": "37c7419a-414f-4f12-b30d-33e3c1e460df",
   "metadata": {},
   "outputs": [],
   "source": [
    "DIR_PATH = \"/media/pgliwny/ADATA HD3301/Computer_Vision_system/data/MAGIC/webcam\"\n",
    "IMAGE_LIST = []\n",
    "for f_name in good_images_list[::5]:\n",
    "    f_name.strip()\n",
    "    image_path = os.path.join(DIR_PATH, f_name.strip())\n",
    "    IMAGE_LIST.append(image_path)\n",
    "    "
   ]
  },
  {
   "cell_type": "code",
   "execution_count": 16,
   "id": "5a210637-f800-4725-9b23-b6dc304eb0a6",
   "metadata": {},
   "outputs": [
    {
     "data": {
      "text/plain": [
       "254"
      ]
     },
     "execution_count": 16,
     "metadata": {},
     "output_type": "execute_result"
    }
   ],
   "source": [
    "len(IMAGE_LIST)"
   ]
  },
  {
   "cell_type": "code",
   "execution_count": 3,
   "id": "82d641ff-e9c7-4aa1-937e-ea4d01b9c763",
   "metadata": {},
   "outputs": [],
   "source": [
    "def mirrors_data_generator():\n",
    "    # Example: load one image and its mirrors at a time\n",
    "    for img_path in IMAGE_LIST:\n",
    "        img_name = img_path.split(\"/\")[-1]\n",
    "        img = Image.open(img_path).convert(\"L\")\n",
    "        \n",
    "        mirrors_list = [get_mirror(M_POINTS, i, np.array(img)) for i in range(289)]\n",
    "    \n",
    "        yield np.array(img), img_name, mirrors_list"
   ]
  },
  {
   "cell_type": "code",
   "execution_count": 17,
   "id": "cfce5780-6614-42ba-b084-a0b805b0f663",
   "metadata": {},
   "outputs": [],
   "source": [
    "M_POINTS = get_matrix_points()\n",
    "\n",
    "# Open HDF5 file once (for writing)\n",
    "with h5py.File(\"webcam_images_good.h5\", \"w\") as f:\n",
    "    images_group = f.create_group(\"images\")\n",
    "\n",
    "    for idx, (img_array, img_name, mirrors_list) in enumerate(mirrors_data_generator()):\n",
    "        # Create a group for this entry\n",
    "        entry_group = images_group.create_group(f\"entry_{idx:04d}\")\n",
    "        \n",
    "        # Save image\n",
    "        entry_group.create_dataset(\"image\", data=img_array)\n",
    "\n",
    "        # Save name\n",
    "        entry_group.create_dataset(\"image_name\", data=img_name.encode(\"utf-8\"))\n",
    "\n",
    "        # Save mirrors\n",
    "        mirrors_group = entry_group.create_group(\"mirrors\")\n",
    "        for m_idx, mirror in enumerate(mirrors_list):\n",
    "            mirrors_group.create_dataset(f\"mirror_{m_idx}\", data=mirror)"
   ]
  },
  {
   "cell_type": "code",
   "execution_count": null,
   "id": "bd642df1-8a58-4d7e-bc06-80820f193ebb",
   "metadata": {},
   "outputs": [],
   "source": []
  },
  {
   "cell_type": "code",
   "execution_count": null,
   "id": "a062fe3c-49ad-43e1-af79-7e5220ca77c6",
   "metadata": {},
   "outputs": [],
   "source": []
  },
  {
   "cell_type": "code",
   "execution_count": null,
   "id": "6cdf17dc-0193-4d5e-97f6-fd5d3b535965",
   "metadata": {},
   "outputs": [],
   "source": []
  },
  {
   "cell_type": "code",
   "execution_count": null,
   "id": "cbf5a45b-15ac-4552-852a-7f7aa3cb30f6",
   "metadata": {},
   "outputs": [],
   "source": []
  },
  {
   "cell_type": "code",
   "execution_count": null,
   "id": "9bb2eee6-8f58-4d79-a259-f1390153864a",
   "metadata": {},
   "outputs": [],
   "source": []
  },
  {
   "cell_type": "code",
   "execution_count": null,
   "id": "7a296e99-0810-47dd-8b24-b0c3506fc27d",
   "metadata": {},
   "outputs": [],
   "source": []
  },
  {
   "cell_type": "code",
   "execution_count": null,
   "id": "944e38e1-2f60-4a18-a797-fb355260cf26",
   "metadata": {},
   "outputs": [],
   "source": []
  },
  {
   "cell_type": "code",
   "execution_count": null,
   "id": "ce2cf291-91ee-4248-9196-c750bced5edd",
   "metadata": {},
   "outputs": [],
   "source": []
  },
  {
   "cell_type": "code",
   "execution_count": null,
   "id": "be4a0ca9-0d79-43eb-bdba-994da77de432",
   "metadata": {},
   "outputs": [],
   "source": []
  },
  {
   "cell_type": "code",
   "execution_count": null,
   "id": "2f4f549d-addd-4f3a-b463-07b5e4687436",
   "metadata": {},
   "outputs": [],
   "source": []
  },
  {
   "cell_type": "code",
   "execution_count": null,
   "id": "b1e19300-fd4b-4842-a5ce-bea951d34e46",
   "metadata": {},
   "outputs": [],
   "source": []
  },
  {
   "cell_type": "code",
   "execution_count": null,
   "id": "eaa18300-a27c-4569-92f1-813ef6c0c6e0",
   "metadata": {},
   "outputs": [],
   "source": []
  },
  {
   "cell_type": "code",
   "execution_count": null,
   "id": "857d5638-1a3c-43ea-9ca2-b3c89b6ece4b",
   "metadata": {},
   "outputs": [],
   "source": []
  },
  {
   "cell_type": "code",
   "execution_count": null,
   "id": "726b2eff-9c17-474f-8e61-a7c2faa5b11d",
   "metadata": {},
   "outputs": [],
   "source": [
    "def mirrors_data_generator():\n",
    "    # Example: load one image and its mirrors at a time\n",
    "    for img_path in IMAGE_LIST:\n",
    "        img_name = img_path.split(\"/\")[-1]\n",
    "        img = Image.open(img_path).convert(\"L\")\n",
    "        \n",
    "        mirrors_list = [get_mirror(M_POINTS, i, np.array(img)) for i in range(289)]\n",
    "    \n",
    "        yield np.array(img), img_name, mirrors_list"
   ]
  },
  {
   "cell_type": "code",
   "execution_count": 13,
   "id": "62af2bbe-5dd7-40e3-acfb-a659e0b230c3",
   "metadata": {},
   "outputs": [
    {
     "name": "stdout",
     "output_type": "stream",
     "text": [
      "['/media/pgliwny/ADATA HD330/Computer_Vision_system/data/MAGIC/webcam/image_2024-06-21_1200.jpg', '/media/pgliwny/ADATA HD330/Computer_Vision_system/data/MAGIC/webcam/image_2024-01-02_1200.jpg', '/media/pgliwny/ADATA HD330/Computer_Vision_system/data/MAGIC/webcam/image_2024-01-03_1200.jpg']\n",
      "203\n"
     ]
    }
   ],
   "source": [
    "WEBCAM_IMG_PATH = \"/media/pgliwny/ADATA HD330/Computer_Vision_system/data/MAGIC/webcam/\"\n",
    "IMAGE_LIST = glob.glob(os.path.join(WEBCAM_IMG_PATH,\"image_2024*1200*\"))\n",
    "print(IMAGE_LIST[:3])\n",
    "print(len(IMAGE_LIST))"
   ]
  },
  {
   "cell_type": "code",
   "execution_count": 14,
   "id": "25d51dda-4fbe-4542-a697-a0f18bba3125",
   "metadata": {},
   "outputs": [],
   "source": [
    "M_POINTS = get_matrix_points()\n",
    "\n",
    "# Open HDF5 file once (for writing)\n",
    "with h5py.File(\"webcam_images.h5\", \"w\") as f:\n",
    "    images_group = f.create_group(\"images\")\n",
    "\n",
    "    for idx, (img_array, img_name, mirrors_list) in enumerate(mirrors_data_generator()):\n",
    "        # Create a group for this entry\n",
    "        entry_group = images_group.create_group(f\"entry_{idx}\")\n",
    "        \n",
    "        # Save image\n",
    "        entry_group.create_dataset(\"image\", data=img_array)\n",
    "\n",
    "        # Save name\n",
    "        entry_group.create_dataset(\"image_name\", data=img_name.encode(\"utf-8\"))\n",
    "\n",
    "        # Save mirrors\n",
    "        mirrors_group = entry_group.create_group(\"mirrors\")\n",
    "        for m_idx, mirror in enumerate(mirrors_list):\n",
    "            mirrors_group.create_dataset(f\"mirror_{m_idx}\", data=mirror)"
   ]
  },
  {
   "cell_type": "code",
   "execution_count": null,
   "id": "d0efa346-919e-4c93-9cfd-55636714f6d9",
   "metadata": {},
   "outputs": [],
   "source": []
  },
  {
   "cell_type": "code",
   "execution_count": null,
   "id": "cf8faa38-134a-4b97-959f-1b1cb78cbcd5",
   "metadata": {},
   "outputs": [],
   "source": []
  },
  {
   "cell_type": "code",
   "execution_count": null,
   "id": "3625f52d-eaac-454c-82dc-edab5b42551b",
   "metadata": {},
   "outputs": [],
   "source": []
  },
  {
   "cell_type": "markdown",
   "id": "2bd0303e-26a3-4978-ba09-12c702c1496f",
   "metadata": {},
   "source": [
    "# Example with list"
   ]
  },
  {
   "cell_type": "code",
   "execution_count": 8,
   "id": "ff17ce2d-a247-4c11-ba4a-b241d5378f2c",
   "metadata": {},
   "outputs": [
    {
     "name": "stdout",
     "output_type": "stream",
     "text": [
      "['/media/pgliwny/ADATA HD330/Computer_Vision_system/data/MAGIC/webcam/image_2024-06-21_1200.jpg', '/media/pgliwny/ADATA HD330/Computer_Vision_system/data/MAGIC/webcam/image_2024-01-02_1200.jpg', '/media/pgliwny/ADATA HD330/Computer_Vision_system/data/MAGIC/webcam/image_2024-01-03_1200.jpg']\n",
      "203\n"
     ]
    }
   ],
   "source": [
    "WEBCAM_IMG_PATH = \"/media/pgliwny/ADATA HD330/Computer_Vision_system/data/MAGIC/webcam/\"\n",
    "image_list = glob.glob(os.path.join(WEBCAM_IMG_PATH,\"image_2024*1200*\"))\n",
    "print(image_list[:3])\n",
    "print(len(image_list))"
   ]
  },
  {
   "cell_type": "code",
   "execution_count": 27,
   "id": "f9fd5fb7-cde4-4d31-9205-f08d0f4b4744",
   "metadata": {},
   "outputs": [],
   "source": [
    "m_points = get_matrix_points()"
   ]
  },
  {
   "cell_type": "code",
   "execution_count": null,
   "id": "78659ef9-5694-4b9d-9bf8-462452ac0ffd",
   "metadata": {
    "collapsed": true,
    "jupyter": {
     "outputs_hidden": true
    },
    "scrolled": true
   },
   "outputs": [
    {
     "name": "stdout",
     "output_type": "stream",
     "text": [
      "/media/pgliwny/ADATA HD330/Computer_Vision_system/data/MAGIC/webcam/image_2024-01-09_1500.jpg\n",
      "/media/pgliwny/ADATA HD330/Computer_Vision_system/data/MAGIC/webcam/image_2024-02-01_1800.jpg\n",
      "/media/pgliwny/ADATA HD330/Computer_Vision_system/data/MAGIC/webcam/image_2024-02-25_1400.jpg\n",
      "/media/pgliwny/ADATA HD330/Computer_Vision_system/data/MAGIC/webcam/image_2024-03-19_1700.jpg\n",
      "/media/pgliwny/ADATA HD330/Computer_Vision_system/data/MAGIC/webcam/image_2024-04-12_1100.jpg\n",
      "/media/pgliwny/ADATA HD330/Computer_Vision_system/data/MAGIC/webcam/image_2024-05-05_1400.jpg\n",
      "/media/pgliwny/ADATA HD330/Computer_Vision_system/data/MAGIC/webcam/image_2024-05-28_1700.jpg\n",
      "/media/pgliwny/ADATA HD330/Computer_Vision_system/data/MAGIC/webcam/image_2024-06-21_1200.jpg\n",
      "/media/pgliwny/ADATA HD330/Computer_Vision_system/data/MAGIC/webcam/image_2024-01-01_1000.jpg\n",
      "/media/pgliwny/ADATA HD330/Computer_Vision_system/data/MAGIC/webcam/image_2024-01-01_1100.jpg\n",
      "/media/pgliwny/ADATA HD330/Computer_Vision_system/data/MAGIC/webcam/image_2024-01-01_1300.jpg\n",
      "/media/pgliwny/ADATA HD330/Computer_Vision_system/data/MAGIC/webcam/image_2024-01-01_1400.jpg\n",
      "/media/pgliwny/ADATA HD330/Computer_Vision_system/data/MAGIC/webcam/image_2024-01-01_1500.jpg\n",
      "/media/pgliwny/ADATA HD330/Computer_Vision_system/data/MAGIC/webcam/image_2024-01-01_1600.jpg\n",
      "/media/pgliwny/ADATA HD330/Computer_Vision_system/data/MAGIC/webcam/image_2024-01-01_1700.jpg\n",
      "/media/pgliwny/ADATA HD330/Computer_Vision_system/data/MAGIC/webcam/image_2024-01-01_1800.jpg\n",
      "/media/pgliwny/ADATA HD330/Computer_Vision_system/data/MAGIC/webcam/image_2024-01-02_1000.jpg\n",
      "/media/pgliwny/ADATA HD330/Computer_Vision_system/data/MAGIC/webcam/image_2024-01-02_1100.jpg\n",
      "/media/pgliwny/ADATA HD330/Computer_Vision_system/data/MAGIC/webcam/image_2024-01-02_1200.jpg\n",
      "/media/pgliwny/ADATA HD330/Computer_Vision_system/data/MAGIC/webcam/image_2024-01-02_1300.jpg\n",
      "/media/pgliwny/ADATA HD330/Computer_Vision_system/data/MAGIC/webcam/image_2024-01-02_1400.jpg\n",
      "/media/pgliwny/ADATA HD330/Computer_Vision_system/data/MAGIC/webcam/image_2024-01-02_1500.jpg\n",
      "/media/pgliwny/ADATA HD330/Computer_Vision_system/data/MAGIC/webcam/image_2024-01-02_1600.jpg\n",
      "/media/pgliwny/ADATA HD330/Computer_Vision_system/data/MAGIC/webcam/image_2024-01-02_1700.jpg\n",
      "/media/pgliwny/ADATA HD330/Computer_Vision_system/data/MAGIC/webcam/image_2024-01-03_1000.jpg\n",
      "/media/pgliwny/ADATA HD330/Computer_Vision_system/data/MAGIC/webcam/image_2024-01-03_1100.jpg\n",
      "/media/pgliwny/ADATA HD330/Computer_Vision_system/data/MAGIC/webcam/image_2024-01-03_1200.jpg\n",
      "/media/pgliwny/ADATA HD330/Computer_Vision_system/data/MAGIC/webcam/image_2024-01-03_1300.jpg\n",
      "/media/pgliwny/ADATA HD330/Computer_Vision_system/data/MAGIC/webcam/image_2024-01-03_1400.jpg\n",
      "/media/pgliwny/ADATA HD330/Computer_Vision_system/data/MAGIC/webcam/image_2024-01-03_1500.jpg\n",
      "/media/pgliwny/ADATA HD330/Computer_Vision_system/data/MAGIC/webcam/image_2024-01-03_1600.jpg\n",
      "/media/pgliwny/ADATA HD330/Computer_Vision_system/data/MAGIC/webcam/image_2024-01-03_1700.jpg\n",
      "/media/pgliwny/ADATA HD330/Computer_Vision_system/data/MAGIC/webcam/image_2024-01-03_1800.jpg\n",
      "/media/pgliwny/ADATA HD330/Computer_Vision_system/data/MAGIC/webcam/image_2024-01-04_1000.jpg\n",
      "/media/pgliwny/ADATA HD330/Computer_Vision_system/data/MAGIC/webcam/image_2024-01-04_1100.jpg\n",
      "/media/pgliwny/ADATA HD330/Computer_Vision_system/data/MAGIC/webcam/image_2024-01-04_1200.jpg\n",
      "/media/pgliwny/ADATA HD330/Computer_Vision_system/data/MAGIC/webcam/image_2024-01-04_1300.jpg\n",
      "/media/pgliwny/ADATA HD330/Computer_Vision_system/data/MAGIC/webcam/image_2024-01-04_1400.jpg\n",
      "/media/pgliwny/ADATA HD330/Computer_Vision_system/data/MAGIC/webcam/image_2024-01-04_1600.jpg\n",
      "/media/pgliwny/ADATA HD330/Computer_Vision_system/data/MAGIC/webcam/image_2024-01-04_1700.jpg\n",
      "/media/pgliwny/ADATA HD330/Computer_Vision_system/data/MAGIC/webcam/image_2024-01-04_1800.jpg\n",
      "/media/pgliwny/ADATA HD330/Computer_Vision_system/data/MAGIC/webcam/image_2024-01-05_1000.jpg\n",
      "/media/pgliwny/ADATA HD330/Computer_Vision_system/data/MAGIC/webcam/image_2024-01-05_1100.jpg\n",
      "/media/pgliwny/ADATA HD330/Computer_Vision_system/data/MAGIC/webcam/image_2024-01-05_1200.jpg\n",
      "/media/pgliwny/ADATA HD330/Computer_Vision_system/data/MAGIC/webcam/image_2024-01-05_1300.jpg\n",
      "/media/pgliwny/ADATA HD330/Computer_Vision_system/data/MAGIC/webcam/image_2024-01-05_1400.jpg\n",
      "/media/pgliwny/ADATA HD330/Computer_Vision_system/data/MAGIC/webcam/image_2024-01-05_1500.jpg\n",
      "/media/pgliwny/ADATA HD330/Computer_Vision_system/data/MAGIC/webcam/image_2024-01-05_1600.jpg\n",
      "/media/pgliwny/ADATA HD330/Computer_Vision_system/data/MAGIC/webcam/image_2024-01-05_1700.jpg\n",
      "/media/pgliwny/ADATA HD330/Computer_Vision_system/data/MAGIC/webcam/image_2024-01-05_1800.jpg\n",
      "/media/pgliwny/ADATA HD330/Computer_Vision_system/data/MAGIC/webcam/image_2024-01-06_1000.jpg\n",
      "/media/pgliwny/ADATA HD330/Computer_Vision_system/data/MAGIC/webcam/image_2024-01-06_1100.jpg\n",
      "/media/pgliwny/ADATA HD330/Computer_Vision_system/data/MAGIC/webcam/image_2024-01-06_1300.jpg\n",
      "/media/pgliwny/ADATA HD330/Computer_Vision_system/data/MAGIC/webcam/image_2024-01-06_1400.jpg\n",
      "/media/pgliwny/ADATA HD330/Computer_Vision_system/data/MAGIC/webcam/image_2024-01-06_1500.jpg\n",
      "/media/pgliwny/ADATA HD330/Computer_Vision_system/data/MAGIC/webcam/image_2024-01-06_1600.jpg\n",
      "/media/pgliwny/ADATA HD330/Computer_Vision_system/data/MAGIC/webcam/image_2024-01-06_1700.jpg\n",
      "/media/pgliwny/ADATA HD330/Computer_Vision_system/data/MAGIC/webcam/image_2024-01-06_1800.jpg\n",
      "/media/pgliwny/ADATA HD330/Computer_Vision_system/data/MAGIC/webcam/image_2024-01-07_1000.jpg\n",
      "/media/pgliwny/ADATA HD330/Computer_Vision_system/data/MAGIC/webcam/image_2024-01-07_1100.jpg\n",
      "/media/pgliwny/ADATA HD330/Computer_Vision_system/data/MAGIC/webcam/image_2024-01-07_1200.jpg\n",
      "/media/pgliwny/ADATA HD330/Computer_Vision_system/data/MAGIC/webcam/image_2024-01-07_1300.jpg\n",
      "/media/pgliwny/ADATA HD330/Computer_Vision_system/data/MAGIC/webcam/image_2024-01-07_1400.jpg\n",
      "/media/pgliwny/ADATA HD330/Computer_Vision_system/data/MAGIC/webcam/image_2024-01-07_1500.jpg\n",
      "/media/pgliwny/ADATA HD330/Computer_Vision_system/data/MAGIC/webcam/image_2024-01-07_1600.jpg\n",
      "/media/pgliwny/ADATA HD330/Computer_Vision_system/data/MAGIC/webcam/image_2024-01-07_1700.jpg\n",
      "/media/pgliwny/ADATA HD330/Computer_Vision_system/data/MAGIC/webcam/image_2024-01-08_1000.jpg\n",
      "/media/pgliwny/ADATA HD330/Computer_Vision_system/data/MAGIC/webcam/image_2024-01-08_1100.jpg\n",
      "/media/pgliwny/ADATA HD330/Computer_Vision_system/data/MAGIC/webcam/image_2024-01-08_1200.jpg\n",
      "/media/pgliwny/ADATA HD330/Computer_Vision_system/data/MAGIC/webcam/image_2024-01-08_1300.jpg\n",
      "/media/pgliwny/ADATA HD330/Computer_Vision_system/data/MAGIC/webcam/image_2024-01-08_1400.jpg\n"
     ]
    }
   ],
   "source": [
    "image_data_list = []\n",
    "for img_path in image_list[:5]:\n",
    "    img = Image.open(img_path).convert(\"L\")\n",
    "    print(img_path)\n",
    "    mirrors_list = [get_mirror(m_points, i, np.array(img)) for i in range(289)]\n",
    "\n",
    "    \n",
    "    d = {\n",
    "        \"name\":image_list[0].split(\"/\")[-1],\n",
    "        \"image\": np.array(img),\n",
    "        \"mirrors\": mirrors_list\n",
    "    }\n",
    "    image_data_list.append(d)\n",
    "\n"
   ]
  },
  {
   "cell_type": "code",
   "execution_count": 38,
   "id": "596536c4-e048-4ba4-89a6-0037f689fd33",
   "metadata": {},
   "outputs": [],
   "source": [
    "with h5py.File(\"webcam_images.h5\", \"w\") as f:\n",
    "    images_group = f.create_group(\"images\")\n",
    "\n",
    "    for idx, entry in enumerate(image_data_list):\n",
    "        entry_group = images_group.create_group(f\"entry_{idx}\")\n",
    "        entry_group.create_dataset(\"image\", data=entry[\"image\"])\n",
    "        entry_group.create_dataset(\"image_name\", data=entry[\"name\"].encode(\"utf-8\"))\n",
    "        \n",
    "        mirrors_group = entry_group.create_group(\"mirrors\")\n",
    "        for m_idx, mirror in enumerate(entry[\"mirrors\"]):\n",
    "            mirrors_group.create_dataset(f\"mirror_{m_idx}\", data=mirror)"
   ]
  },
  {
   "cell_type": "markdown",
   "id": "1bd21739-7f66-4f9c-a01e-c9c292de0028",
   "metadata": {},
   "source": [
    "# Example one image"
   ]
  },
  {
   "cell_type": "code",
   "execution_count": 19,
   "id": "f562bbb9-a594-4e82-828d-00af5125073f",
   "metadata": {},
   "outputs": [
    {
     "name": "stdout",
     "output_type": "stream",
     "text": [
      "['/media/pgliwny/ADATA HD330/Computer_Vision_system/data/MAGIC/webcam/image_2024-01-09_1500.jpg', '/media/pgliwny/ADATA HD330/Computer_Vision_system/data/MAGIC/webcam/image_2024-02-01_1800.jpg', '/media/pgliwny/ADATA HD330/Computer_Vision_system/data/MAGIC/webcam/image_2024-02-25_1400.jpg']\n"
     ]
    }
   ],
   "source": [
    "WEBCAM_IMG_PATH = \"/media/pgliwny/ADATA HD330/Computer_Vision_system/data/MAGIC/webcam/\"\n",
    "image_list = glob.glob(os.path.join(WEBCAM_IMG_PATH,\"image_2024*\"))\n",
    "print(image_list[:3])"
   ]
  },
  {
   "cell_type": "code",
   "execution_count": null,
   "id": "9ad2ef52-96cb-4433-a8d6-66962aaf4b20",
   "metadata": {},
   "outputs": [],
   "source": [
    "img = Image.open(image_list[0]).convert(\"L\")\n",
    "\n",
    "plt.imshow(np.array(img))"
   ]
  },
  {
   "cell_type": "code",
   "execution_count": 8,
   "id": "2085e0f5-84f0-42a3-9f2b-4725782b1030",
   "metadata": {},
   "outputs": [
    {
     "name": "stdout",
     "output_type": "stream",
     "text": [
      "__pycache__  save_mirror_to_file.ipynb\tutils.py\n"
     ]
    }
   ],
   "source": [
    "! ls"
   ]
  },
  {
   "cell_type": "code",
   "execution_count": 14,
   "id": "8814c25d-7352-40f6-90d9-a86ddc6b67c0",
   "metadata": {},
   "outputs": [],
   "source": [
    "m_points = get_matrix_points()"
   ]
  },
  {
   "cell_type": "code",
   "execution_count": 15,
   "id": "0a9315e0-8f7e-4a2c-a53c-f54658f4b7ea",
   "metadata": {},
   "outputs": [
    {
     "data": {
      "text/plain": [
       "(18, 18)"
      ]
     },
     "execution_count": 15,
     "metadata": {},
     "output_type": "execute_result"
    }
   ],
   "source": [
    "m_points.shape"
   ]
  },
  {
   "cell_type": "code",
   "execution_count": 16,
   "id": "9ebd330b-d5e9-48e5-be20-dbac1286fd1b",
   "metadata": {},
   "outputs": [],
   "source": [
    "m1 = get_mirror(m_points, 280, np.array(img))"
   ]
  },
  {
   "cell_type": "code",
   "execution_count": 20,
   "id": "4b15d154-c154-43d3-9c5b-363b4da746a2",
   "metadata": {},
   "outputs": [],
   "source": [
    "mirrors_list = [get_mirror(m_points, i, np.array(img)) for i in range(289)]"
   ]
  },
  {
   "cell_type": "code",
   "execution_count": 21,
   "id": "a32be82d-189a-4dbc-8e11-28b394e5edea",
   "metadata": {},
   "outputs": [
    {
     "data": {
      "text/plain": [
       "(18, 16)"
      ]
     },
     "execution_count": 21,
     "metadata": {},
     "output_type": "execute_result"
    }
   ],
   "source": [
    "m1.shape"
   ]
  },
  {
   "cell_type": "code",
   "execution_count": 22,
   "id": "c027c65e-6958-4a6e-9ede-f70dcaca0668",
   "metadata": {},
   "outputs": [
    {
     "data": {
      "text/plain": [
       "(480, 830)"
      ]
     },
     "execution_count": 22,
     "metadata": {},
     "output_type": "execute_result"
    }
   ],
   "source": [
    "np.array(img).shape"
   ]
  },
  {
   "cell_type": "code",
   "execution_count": 23,
   "id": "16284730-3783-464a-9ebd-acfef3f69ab3",
   "metadata": {},
   "outputs": [
    {
     "data": {
      "text/plain": [
       "289"
      ]
     },
     "execution_count": 23,
     "metadata": {},
     "output_type": "execute_result"
    }
   ],
   "source": [
    "len(mirrors_list)"
   ]
  },
  {
   "cell_type": "code",
   "execution_count": 24,
   "id": "9d307cea-934c-4be6-943d-4db25740ffa0",
   "metadata": {},
   "outputs": [
    {
     "data": {
      "text/plain": [
       "(10, 12)"
      ]
     },
     "execution_count": 24,
     "metadata": {},
     "output_type": "execute_result"
    }
   ],
   "source": [
    "mirrors_list[0].shape"
   ]
  },
  {
   "cell_type": "code",
   "execution_count": 25,
   "id": "1351e6ac-8ffc-4ab9-bac8-4cc94684b9da",
   "metadata": {},
   "outputs": [
    {
     "data": {
      "text/plain": [
       "(13, 17)"
      ]
     },
     "execution_count": 25,
     "metadata": {},
     "output_type": "execute_result"
    }
   ],
   "source": [
    "mirrors_list[1].shape"
   ]
  },
  {
   "cell_type": "code",
   "execution_count": 27,
   "id": "917decf6-39d5-483e-a206-e9cfe1129a06",
   "metadata": {},
   "outputs": [
    {
     "data": {
      "text/plain": [
       "'image_2024-01-09_1500.jpg'"
      ]
     },
     "execution_count": 27,
     "metadata": {},
     "output_type": "execute_result"
    }
   ],
   "source": [
    "image_list[0].split(\"/\")[-1]"
   ]
  },
  {
   "cell_type": "code",
   "execution_count": 22,
   "id": "a3029af6-6bca-49f9-8c3f-1a14ac78f8db",
   "metadata": {},
   "outputs": [],
   "source": [
    "image_data = [\n",
    "    {\n",
    "        \"name\":image_list[0].split(\"/\")[-1],\n",
    "        \"image\": np.array(img),\n",
    "        \"mirrors\": mirrors_list\n",
    "    }\n",
    "]"
   ]
  },
  {
   "cell_type": "code",
   "execution_count": 23,
   "id": "7496e958-88b4-4590-8758-15de267d09e7",
   "metadata": {},
   "outputs": [],
   "source": [
    "with h5py.File(\"webcam_images.h5\", \"w\") as f:\n",
    "    images_group = f.create_group(\"images\")\n",
    "\n",
    "    for idx, entry in enumerate(image_data):\n",
    "        entry_group = images_group.create_group(f\"entry_{idx}\")\n",
    "        entry_group.create_dataset(\"image\", data=entry[\"image\"])\n",
    "        entry_group.create_dataset(\"image_name\", data=entry[\"name\"].encode(\"utf-8\"))\n",
    "        \n",
    "        mirrors_group = entry_group.create_group(\"mirrors\")\n",
    "        for m_idx, mirror in enumerate(entry[\"mirrors\"]):\n",
    "            mirrors_group.create_dataset(f\"mirror_{m_idx}\", data=mirror)\n",
    "                                       "
   ]
  },
  {
   "cell_type": "code",
   "execution_count": 32,
   "id": "3062c06a-f09b-4107-864e-6330f4f531fb",
   "metadata": {},
   "outputs": [
    {
     "name": "stdout",
     "output_type": "stream",
     "text": [
      "image_2024-01-09_1500.jpg: image shape (480, 830), mirrors: [(10, 12), (13, 17), (21, 20), (19, 17), (20, 18), (19, 17), (19, 16), (19, 18), (20, 17), (20, 18), (20, 19), (20, 14), (21, 18), (18, 14), (21, 17), (21, 16), (21, 17), (22, 19), (21, 16), (21, 17), (21, 18), (20, 17), (21, 18), (18, 17), (18, 17), (18, 16), (18, 17), (17, 16), (17, 16), (17, 17), (16, 13), (16, 17), (16, 15), (17, 15), (16, 17), (19, 18), (17, 19), (17, 15), (18, 17), (18, 17), (18, 16), (19, 18), (17, 17), (17, 16), (18, 17), (18, 15), (17, 17), (18, 16), (19, 18), (18, 14), (19, 17), (18, 16), (19, 16), (19, 16), (20, 19), (19, 15), (20, 17), (16, 17), (19, 17), (20, 16), (19, 18), (17, 17), (17, 15), (17, 16), (18, 15), (18, 17), (19, 17), (19, 13), (14, 14), (20, 17), (20, 16), (20, 16), (20, 16), (22, 20), (21, 15), (22, 17), (22, 17), (23, 16), (24, 18), (16, 15), (17, 16), (18, 15), (17, 16), (18, 15), (18, 16), (17, 16), (17, 14), (18, 17), (18, 16), (18, 15), (16, 18), (17, 16), (18, 19), (17, 15), (17, 16), (17, 17), (17, 15), (17, 17), (17, 15), (18, 15), (17, 16), (16, 17), (18, 15), (18, 16), (19, 16), (18, 14), (19, 16), (19, 16), (19, 15), (20, 16), (21, 18), (21, 15), (14, 16), (17, 19), (21, 15), (22, 17), (22, 14), (23, 18), (17, 15), (18, 16), (18, 16), (19, 15), (18, 16), (19, 15), (17, 18), (19, 14), (19, 16), (20, 16), (19, 15), (19, 15), (20, 18), (20, 15), (19, 15), (19, 17), (19, 14), (17, 20), (19, 17), (16, 14), (16, 16), (16, 15), (17, 14), (17, 15), (17, 15), (17, 15), (17, 16), (18, 16), (17, 15), (18, 15), (18, 15), (18, 17), (19, 15), (19, 15), (19, 17), (19, 14), (20, 17), (14, 12), (15, 17), (18, 17), (15, 16), (16, 14), (16, 15), (18, 15), (18, 14), (18, 16), (19, 16), (19, 15), (20, 15), (20, 16), (18, 16), (20, 15), (21, 14), (21, 16), (20, 13), (21, 16), (13, 12), (14, 18), (14, 15), (15, 14), (15, 15), (18, 18), (15, 15), (16, 16), (16, 16), (17, 15), (17, 15), (17, 15), (18, 15), (18, 15), (18, 14), (19, 17), (20, 19), (18, 13), (20, 16), (19, 11), (19, 19), (19, 15), (18, 14), (19, 15), (18, 14), (19, 16), (18, 15), (19, 15), (18, 16), (18, 15), (18, 15), (17, 14), (18, 15), (17, 14), (18, 17), (17, 12), (17, 16), (19, 17), (17, 19), (21, 19), (22, 18), (22, 18), (22, 17), (19, 16), (19, 18), (19, 18), (20, 20), (20, 18), (20, 20), (17, 18), (19, 15), (20, 17), (20, 17), (20, 18), (21, 19), (20, 17), (20, 17), (20, 19), (21, 18), (21, 18), (19, 20), (21, 18), (18, 16), (18, 17), (18, 18), (19, 19), (20, 17), (20, 20), (19, 15), (20, 17), (20, 17), (19, 16), (21, 17), (22, 19), (21, 17), (21, 17), (21, 18), (22, 18), (21, 18), (22, 18), (18, 16), (18, 17), (19, 17), (18, 18), (18, 17), (18, 17), (19, 19), (18, 14), (19, 17), (18, 17), (19, 16), (20, 18), (21, 18), (19, 16), (21, 17), (21, 18), (22, 18), (22, 17), (23, 18), (16, 17), (16, 16), (16, 17), (17, 16), (16, 17), (20, 18), (17, 18), (17, 14), (18, 17), (17, 16), (18, 16), (18, 18), (18, 18), (18, 16), (19, 17), (19, 17)]\n"
     ]
    }
   ],
   "source": [
    "with h5py.File(\"webcam_images.h5\", \"r\") as f:\n",
    "    for entry_name in f[\"images\"]:\n",
    "        entry = f[\"images\"][entry_name]\n",
    "        image = entry[\"image\"][:]\n",
    "        name = entry[\"image_name\"][()].decode(\"utf-8\")\n",
    "        \n",
    "        mirrors = []\n",
    "        for mirror_name in entry[\"mirrors\"]:\n",
    "            mirrors.append(entry[\"mirrors\"][mirror_name][:])\n",
    "\n",
    "        print(f\"{name}: image shape {image.shape}, mirrors: {[m.shape for m in mirrors]}\")"
   ]
  },
  {
   "cell_type": "code",
   "execution_count": null,
   "id": "63883271-9a78-440d-8bb4-943a0405a9bb",
   "metadata": {},
   "outputs": [],
   "source": []
  }
 ],
 "metadata": {
  "kernelspec": {
   "display_name": "Python 3 (ipykernel)",
   "language": "python",
   "name": "python3"
  },
  "language_info": {
   "codemirror_mode": {
    "name": "ipython",
    "version": 3
   },
   "file_extension": ".py",
   "mimetype": "text/x-python",
   "name": "python",
   "nbconvert_exporter": "python",
   "pygments_lexer": "ipython3",
   "version": "3.12.11"
  }
 },
 "nbformat": 4,
 "nbformat_minor": 5
}
