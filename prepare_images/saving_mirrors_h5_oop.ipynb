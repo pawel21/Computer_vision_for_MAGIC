{
 "cells": [
  {
   "cell_type": "code",
   "execution_count": 7,
   "id": "6c06b806-23bf-4da3-9827-9f9c42d6067a",
   "metadata": {},
   "outputs": [],
   "source": [
    "from pathlib import Path\n",
    "from typing import Iterable, List, Tuple\n",
    "import numpy as np\n",
    "import h5py\n",
    "import cv2\n",
    "from PIL import Image\n",
    "import datetime as dt\n",
    "\n",
    "import glob"
   ]
  },
  {
   "cell_type": "code",
   "execution_count": 8,
   "id": "46ee2b95-9876-4531-b95c-deed4e39e1d3",
   "metadata": {},
   "outputs": [],
   "source": [
    "def get_coords(state, indices, m_points):\n",
    "    i, j = indices[state['idx']]\n",
    "    x_coords = [\n",
    "        m_points[i, j]['x'],\n",
    "        m_points[i, j+1]['x'],\n",
    "        m_points[i+1, j+1]['x'],\n",
    "        m_points[i+1, j]['x'],\n",
    "        m_points[i, j]['x']  # close the loop\n",
    "    ]\n",
    "    y_coords = [\n",
    "        m_points[i, j]['y'],\n",
    "        m_points[i, j+1]['y'],\n",
    "        m_points[i+1, j+1]['y'],\n",
    "        m_points[i+1, j]['y'],\n",
    "        m_points[i, j]['y']\n",
    "    ]\n",
    "    return x_coords, y_coords\n",
    "\n",
    "def get_matrix_points(crossing_points_path='data/crossings_points.pkl'):\n",
    "    with open(crossing_points_path, 'rb') as f:\n",
    "        crossing_points = pickle.load(f)\n",
    "\n",
    "    dt = np.dtype([('x', 'i4'), ('y', 'i4')])\n",
    "    m_points = np.zeros((18, 18), dtype=dt)\n",
    "    i = 0 \n",
    "    j = 0\n",
    "    for p in crossing_points:\n",
    "        m_points[i, j] = p\n",
    "        j += 1\n",
    "        if j%18 == 0:\n",
    "            j = 0\n",
    "            i += 1\n",
    "    return m_points"
   ]
  },
  {
   "cell_type": "code",
   "execution_count": 2,
   "id": "684ed261-385e-4e66-bb0c-163bca4719a6",
   "metadata": {},
   "outputs": [],
   "source": [
    "class WebcamH5Writer:\n",
    "    def __init__(\n",
    "        self,\n",
    "        image_paths: Iterable[str | Path],\n",
    "        m_points: np.ndarray,\n",
    "        h5_path: str = \"webcam_images_color.h5\",\n",
    "        rows: int = 18,\n",
    "        cols: int = 18,\n",
    "        compression: str = \"gzip\",\n",
    "        compression_opts: int = 4\n",
    "    ):\n",
    "        self.image_paths = [Path(p) for p in image_paths]\n",
    "        self.m_points = m_points\n",
    "        self.h5_path = h5_path\n",
    "        self.rows = rows\n",
    "        self.cols = cols\n",
    "        self.N_mirrors = (rows - 1) * (cols - 1)\n",
    "        self.compression = compression\n",
    "        self.compression_opts = compression_opts\n",
    "\n",
    "    def _mirror_indices(self) -> List[Tuple[int, int]]:\n",
    "        # Mirrors are the (rows-1) x (cols-1) cells in the grid\n",
    "        return [(i, j) for i in range(self.rows - 1) for j in range(self.cols - 1)]\n",
    "\n",
    "    def get_mirror_polygon(self, idx: int) -> Tuple[np.ndarray, np.ndarray]:\n",
    "        \"\"\"\n",
    "        Return x and y vertex arrays for mirror 'idx' using your existing get_coords().\n",
    "        \"\"\"\n",
    "        indices = self._mirror_indices()\n",
    "        state = {'idx': idx}\n",
    "        x, y = get_coords(state, indices, self.m_points)  # <- your function\n",
    "        x = np.asarray(x, dtype=np.int32)\n",
    "        y = np.asarray(y, dtype=np.int32)\n",
    "        return x, y\n",
    "\n",
    "    @staticmethod\n",
    "    def extract_polygon_region_color(img_rgb: np.ndarray, x_coords: np.ndarray, y_coords: np.ndarray) -> np.ndarray:\n",
    "        \"\"\"\n",
    "        Extract a polygonal region from an RGB image (H, W, 3) using a mask, then crop to bounding rect.\n",
    "        \"\"\"\n",
    "        if img_rgb.ndim != 3 or img_rgb.shape[2] != 3:\n",
    "            raise ValueError(\"img_rgb must be an RGB image with shape (H, W, 3).\")\n",
    "        if img_rgb.dtype != np.uint8:\n",
    "            img_rgb = img_rgb.astype(np.uint8)\n",
    "\n",
    "        pts = np.stack([x_coords, y_coords], axis=1).astype(np.int32)  # (K, 2)\n",
    "        pts = pts.reshape((-1, 1, 2))  # (K, 1, 2) for cv2\n",
    "\n",
    "        H, W, _ = img_rgb.shape\n",
    "        mask = np.zeros((H, W), dtype=np.uint8)\n",
    "        cv2.fillPoly(mask, [pts], color=255)\n",
    "\n",
    "        # Single-channel mask works with 3-channel bitwise_and\n",
    "        masked = cv2.bitwise_and(img_rgb, img_rgb, mask=mask)\n",
    "\n",
    "        x, y, w, h = cv2.boundingRect(pts)\n",
    "        cropped = masked[y:y + h, x:x + w]\n",
    "\n",
    "        return cropped\n",
    "\n",
    "    def get_mirror(self, idx: int, image_rgb: np.ndarray) -> np.ndarray:\n",
    "        x, y = self.get_mirror_polygon(idx)\n",
    "        mirror = self.extract_polygon_region_color(image_rgb, x, y)\n",
    "        return mirror\n"
   ]
  },
  {
   "cell_type": "code",
   "execution_count": 4,
   "id": "323cf90f-c46a-4caa-93a3-7cbfff37cf16",
   "metadata": {},
   "outputs": [
    {
     "name": "stdout",
     "output_type": "stream",
     "text": [
      "/media/pgliwny/ADATA HD3302/Computer_vision_for_MAGIC/prepare_images\n"
     ]
    }
   ],
   "source": [
    "! pwd"
   ]
  },
  {
   "cell_type": "code",
   "execution_count": 5,
   "id": "28b3db20-b4fc-491d-a1bb-5cd62f00d0a1",
   "metadata": {},
   "outputs": [
    {
     "ename": "NameError",
     "evalue": "name 'glob' is not defined",
     "output_type": "error",
     "traceback": [
      "\u001b[0;31m---------------------------------------------------------------------------\u001b[0m",
      "\u001b[0;31mNameError\u001b[0m                                 Traceback (most recent call last)",
      "Cell \u001b[0;32mIn[5], line 2\u001b[0m\n\u001b[1;32m      1\u001b[0m WEBCAM_IMG_PATH \u001b[38;5;241m=\u001b[39m \u001b[38;5;124m\"\u001b[39m\u001b[38;5;124m/media/pgliwny/ADATA HD332/Computer_Vision_system/data/MAGIC/webcam/\u001b[39m\u001b[38;5;124m\"\u001b[39m\n\u001b[0;32m----> 2\u001b[0m IMAGE_LIST \u001b[38;5;241m=\u001b[39m \u001b[43mglob\u001b[49m\u001b[38;5;241m.\u001b[39mglob(os\u001b[38;5;241m.\u001b[39mpath\u001b[38;5;241m.\u001b[39mjoin(WEBCAM_IMG_PATH,\u001b[38;5;124m\"\u001b[39m\u001b[38;5;124mimage_2024*1200*\u001b[39m\u001b[38;5;124m\"\u001b[39m))\n\u001b[1;32m      3\u001b[0m \u001b[38;5;28mprint\u001b[39m(IMAGE_LIST[:\u001b[38;5;241m3\u001b[39m])\n\u001b[1;32m      4\u001b[0m \u001b[38;5;28mprint\u001b[39m(\u001b[38;5;28mlen\u001b[39m(IMAGE_LIST))\n",
      "\u001b[0;31mNameError\u001b[0m: name 'glob' is not defined"
     ]
    }
   ],
   "source": [
    "WEBCAM_IMG_PATH = \"/media/pgliwny/ADATA HD332/Computer_Vision_system/data/MAGIC/webcam/\"\n",
    "IMAGE_LIST = glob.glob(os.path.join(WEBCAM_IMG_PATH,\"image_2024*1200*\"))\n",
    "print(IMAGE_LIST[:3])\n",
    "print(len(IMAGE_LIST))"
   ]
  },
  {
   "cell_type": "code",
   "execution_count": 3,
   "id": "b1e59623-771d-4d01-afdd-e0d3e8662f95",
   "metadata": {},
   "outputs": [
    {
     "ename": "TypeError",
     "evalue": "WebcamH5Writer.__init__() missing 2 required positional arguments: 'image_paths' and 'm_points'",
     "output_type": "error",
     "traceback": [
      "\u001b[0;31m---------------------------------------------------------------------------\u001b[0m",
      "\u001b[0;31mTypeError\u001b[0m                                 Traceback (most recent call last)",
      "Cell \u001b[0;32mIn[3], line 1\u001b[0m\n\u001b[0;32m----> 1\u001b[0m writer \u001b[38;5;241m=\u001b[39m \u001b[43mWebcamH5Writer\u001b[49m\u001b[43m(\u001b[49m\u001b[43m)\u001b[49m\n",
      "\u001b[0;31mTypeError\u001b[0m: WebcamH5Writer.__init__() missing 2 required positional arguments: 'image_paths' and 'm_points'"
     ]
    }
   ],
   "source": [
    "writer = WebcamH5Writer()"
   ]
  },
  {
   "cell_type": "code",
   "execution_count": null,
   "id": "8c44a44f-8003-4d3b-8360-f6ca57a796f2",
   "metadata": {},
   "outputs": [],
   "source": []
  }
 ],
 "metadata": {
  "kernelspec": {
   "display_name": "Python 3 (ipykernel)",
   "language": "python",
   "name": "python3"
  },
  "language_info": {
   "codemirror_mode": {
    "name": "ipython",
    "version": 3
   },
   "file_extension": ".py",
   "mimetype": "text/x-python",
   "name": "python",
   "nbconvert_exporter": "python",
   "pygments_lexer": "ipython3",
   "version": "3.10.14"
  }
 },
 "nbformat": 4,
 "nbformat_minor": 5
}
