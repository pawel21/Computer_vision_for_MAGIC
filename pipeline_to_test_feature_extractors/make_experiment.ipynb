{
 "cells": [
  {
   "cell_type": "code",
   "execution_count": null,
   "id": "746dd0b5-8169-4e3b-9115-1d9945780cde",
   "metadata": {},
   "outputs": [],
   "source": [
    "%load_ext autoreload\n",
    "%autoreload 2\n",
    "    \n",
    "import numpy as np\n",
    "import matplotlib.pyplot as plt\n",
    "import h5py\n",
    "import os\n",
    "from sklearn.decomposition import PCA\n",
    "from sklearn.cluster import DBSCAN\n",
    "import cv2\n",
    "\n",
    "from pipeline import process_images\n",
    "from feature_extractors import raw_pixels, hog_features, pca_features, statistical_features\n",
    "from clustering import cluster_dbscan, cluster_kmeans\n",
    "\n",
    "from utils import show_mirror, add_box_around_mirror, add_box_around_mirror_with_color"
   ]
  },
  {
   "cell_type": "code",
   "execution_count": null,
   "id": "272f6baa-deea-4146-af5b-39677868dba0",
   "metadata": {},
   "outputs": [],
   "source": [
    "%reload_ext autoreload"
   ]
  },
  {
   "cell_type": "code",
   "execution_count": null,
   "id": "6f07fc76-3125-41c8-b064-b410c78463db",
   "metadata": {},
   "outputs": [],
   "source": [
    "! pwd"
   ]
  },
  {
   "cell_type": "code",
   "execution_count": null,
   "id": "faba8aa7-388c-41aa-b9a4-421faf9c49c6",
   "metadata": {},
   "outputs": [],
   "source": [
    "! ls ../.."
   ]
  },
  {
   "cell_type": "code",
   "execution_count": null,
   "id": "8823174a-9d6a-4828-ad16-ea34d8fe0422",
   "metadata": {},
   "outputs": [],
   "source": [
    "! pwd"
   ]
  },
  {
   "cell_type": "markdown",
   "id": "e4144291-dd30-48f8-91d9-4c45e356b16d",
   "metadata": {},
   "source": [
    "## Set path to H5 file"
   ]
  },
  {
   "cell_type": "code",
   "execution_count": null,
   "id": "a605658b-f9a8-40ac-b539-18ec7a6aeb3a",
   "metadata": {},
   "outputs": [],
   "source": [
    "PATH_GPU = \"/home/pgliwny/computer_vision_project/data\"\n",
    "H5_PATH = os.path.join(PATH_GPU, \"webcam_images.h5\")"
   ]
  },
  {
   "cell_type": "code",
   "execution_count": null,
   "id": "f43b7a1a-8365-440b-acaf-9c4fca66f240",
   "metadata": {},
   "outputs": [],
   "source": [
    "PATH_GPU = \"/home/pgliwny/computer_vision_project/data\"\n",
    "H5_PATH = os.path.join(PATH_GPU, \"webcam_images.h5\")\n",
    "MIRRORS = [\"mirror_183\"]  # etc.\n",
    "\n",
    "# Run test\n",
    "for mirror in MIRRORS:\n",
    "    print(f\"\\nProcessing {mirror}...\")\n",
    "    labels, feats = process_images(\n",
    "        h5file=H5_PATH,\n",
    "        extractor_fn=raw_pixels,\n",
    "        cluster_fn=lambda X: cluster_dbscan(X, eps=2.5, min_samples=2),\n",
    "        mirror_id=mirror\n",
    "    )\n",
    "    print(f\"Unique clusters: {set(labels)}\")"
   ]
  },
  {
   "cell_type": "code",
   "execution_count": null,
   "id": "6119bf93-66e7-4dc9-882e-a265e73c716c",
   "metadata": {},
   "outputs": [],
   "source": [
    "# 3. Reduce to 2D for plotting\n",
    "pca = PCA(n_components=2)\n",
    "proj = pca.fit_transform(feats)\n",
    "\n",
    "# 2. Plot with legend\n",
    "plt.figure(figsize=(6, 5))\n",
    "unique_labels = np.unique(labels)\n",
    "\n",
    "for label in unique_labels:\n",
    "    idx = labels == label\n",
    "    label_name = f\"Cluster {label}\" if label != -1 else \"Outlier\"\n",
    "    plt.scatter(proj[idx, 0], proj[idx, 1], label=label_name)\n",
    "\n",
    "plt.title(\"Mirror Images: PCA on grey image of mirror, colored by DBSCAN\")\n",
    "plt.xlabel(\"PC1\")\n",
    "plt.ylabel(\"PC2\")\n",
    "plt.legend()\n",
    "plt.tight_layout()\n",
    "plt.show()"
   ]
  },
  {
   "cell_type": "code",
   "execution_count": null,
   "id": "1c4ddd7f-8e65-4657-b1cf-c4400d492a88",
   "metadata": {},
   "outputs": [],
   "source": [
    "MIRRORS_LIST = [f\"mirror_{i}\" for i in range(1, 289)]\n",
    "\n",
    "labels_by_mirror = {}\n",
    "# Run test\n",
    "for mirror in MIRRORS_LIST:\n",
    "    #print(f\"\\nProcessing {mirror}...\")\n",
    "    labels, feats = process_images(\n",
    "        h5file=H5_PATH,\n",
    "        extractor_fn=raw_pixels,\n",
    "        cluster_fn=lambda X: cluster_dbscan(X, eps=2.5, min_samples=2),\n",
    "        mirror_id=mirror\n",
    "    )\n",
    "    labels_by_mirror[mirror] = labels\n",
    "    #print(f\"Unique clusters: {set(labels)}\")"
   ]
  },
  {
   "cell_type": "code",
   "execution_count": null,
   "id": "7800a0ac-1281-4143-ad0d-ec6d4aaefe31",
   "metadata": {},
   "outputs": [],
   "source": [
    "labels_by_mirror[\"mirror_25\"]"
   ]
  },
  {
   "cell_type": "code",
   "execution_count": null,
   "id": "60ab9caa-50a3-4268-9468-67574bb3d6f1",
   "metadata": {},
   "outputs": [],
   "source": [
    "MIRRORS_LIST = [f\"mirror_{i}\" for i in range(1, 289)]\n",
    "\n",
    "H5_PATH = \"/home/pgliwny/computer_vision_project/data/webcam_images.h5\"\n",
    "\n",
    "event_id = 142\n",
    "list_of_mirrors = []\n",
    "# Run test\n",
    "for mirror in MIRRORS_LIST:\n",
    "    if labels_by_mirror[mirror][event_id] == -1:\n",
    "        list_of_mirrors.append(int(mirror.split(\"_\")[-1]))\n",
    "\n",
    "f = h5py.File(\"/home/pgliwny/computer_vision_project/data/webcam_images.h5\", \"r\")\n",
    "keys = list(f[\"images\"].keys())\n",
    "add_box_around_mirror(f[\"images\"][keys[event_id]][\"image\"][:], list_of_mirrors)\n",
    "f.close()"
   ]
  },
  {
   "cell_type": "code",
   "execution_count": null,
   "id": "d1af1894-d15e-416b-a5f9-391555eb6ea6",
   "metadata": {},
   "outputs": [],
   "source": [
    "! ls /home/pgliwny/computer_vision_project/data"
   ]
  },
  {
   "cell_type": "code",
   "execution_count": null,
   "id": "1b4a0de4-4cf1-4a1c-8902-5cff0a4bff60",
   "metadata": {},
   "outputs": [],
   "source": [
    "f = h5py.File(\"/home/pgliwny/computer_vision_project/data/webcam_images.h5\", \"r\")\n",
    "keys = list(f[\"images\"].keys())\n",
    "add_box_around_mirror(f[\"images\"][keys[event_id]][\"image\"][:], list_of_mirrors)\n",
    "f.close()"
   ]
  },
  {
   "cell_type": "code",
   "execution_count": null,
   "id": "be0b626a-6740-4b86-8007-d78b74366699",
   "metadata": {},
   "outputs": [],
   "source": [
    "add_box_around_mirror(f[\"images\"][keys[event_id]][\"image\"][:], list_of_mirrors)"
   ]
  },
  {
   "cell_type": "code",
   "execution_count": null,
   "id": "fd84ec56-e462-46cc-8366-f98a1defb476",
   "metadata": {},
   "outputs": [],
   "source": [
    "list_of_mirrors = []\n",
    "event_id = 130\n",
    "for key in labels_by_mirror.keys():\n",
    "    label = labels_by_mirror[key][event_id]\n",
    "    if label == -1:\n",
    "        #print(key, label)\n",
    "        list_of_mirrors.append(int(key.split(\"_\")[-1]))\n",
    "        \n",
    "add_box_around_mirror(f[\"images\"][keys[event_id]][\"image\"][:], list_of_mirrors)"
   ]
  },
  {
   "cell_type": "markdown",
   "id": "3713cdff-1a79-4991-bc8b-f5938fca60d5",
   "metadata": {},
   "source": [
    "# Cluster mirrors from one event"
   ]
  },
  {
   "cell_type": "code",
   "execution_count": null,
   "id": "fc162a6a-8378-4b52-914d-787ffa0b89ec",
   "metadata": {},
   "outputs": [],
   "source": [
    "PATH_GPU = \"/home/pgliwny/computer_vision_project/data\"\n",
    "H5_PATH = os.path.join(PATH_GPU, \"webcam_images.h5\")\n",
    "f = h5py.File(H5_PATH, \"r\")\n",
    "keys = list(f[\"images\"].keys())"
   ]
  },
  {
   "cell_type": "code",
   "execution_count": null,
   "id": "43d696fd-1cc2-4084-a0d1-f30a7a87de3d",
   "metadata": {},
   "outputs": [],
   "source": [
    "keys[:5]"
   ]
  },
  {
   "cell_type": "code",
   "execution_count": null,
   "id": "57d1f4f9-b263-4162-b3ca-e147f9e10230",
   "metadata": {},
   "outputs": [],
   "source": [
    "img_mirror = f[\"images\"][\"entry_10\"][\"mirrors\"][\"mirror_10\"][:]"
   ]
  },
  {
   "cell_type": "code",
   "execution_count": null,
   "id": "c86458cf-6af3-4b88-8bb3-1ababa23f371",
   "metadata": {},
   "outputs": [],
   "source": [
    "img_mirror.shape"
   ]
  },
  {
   "cell_type": "code",
   "execution_count": null,
   "id": "0d57164c-182c-43fc-88a2-0113de535b6e",
   "metadata": {},
   "outputs": [],
   "source": [
    "target_shape = (16, 18)\n",
    "resized = cv2.resize(img_mirror, target_shape, interpolation=cv2.INTER_AREA)\n",
    "flattened = resized.flatten() / 255.0"
   ]
  },
  {
   "cell_type": "code",
   "execution_count": null,
   "id": "ab63471d-aad5-4dd2-89eb-3e10f52e9adf",
   "metadata": {
    "scrolled": true
   },
   "outputs": [],
   "source": [
    "entry_id = \"entry_10\"\n",
    "target_shape = (16, 18)\n",
    "\n",
    "with h5py.File(H5_PATH, \"r\") as f:\n",
    "    mirror_group = f[\"images\"][entry_id][\"mirrors\"]\n",
    "    mirror_names = list(mirror_group.keys())\n",
    "    \n",
    "    images = []\n",
    "    mirror_ids = []\n",
    "    for name in mirror_names:\n",
    "        img = mirror_group[name][:]\n",
    "        resized = cv2.resize(img, target_shape, interpolation=cv2.INTER_AREA)\n",
    "        flattened = resized.flatten() / 255.0\n",
    "        images.append(flattened)\n",
    "        mirror_ids.append(name)\n",
    "    X = np.stack(images)"
   ]
  },
  {
   "cell_type": "code",
   "execution_count": null,
   "id": "5b56034c-0d5b-4781-aa6d-349d1bc92f7e",
   "metadata": {},
   "outputs": [],
   "source": [
    "pca = PCA(n_components=2)\n",
    "X_proj = pca.fit_transform(X)\n",
    "\n",
    "plt.scatter(X_proj[:, 0], X_proj[:, 1])\n",
    "plt.title(\"PCA: 289 Mirrors in entry_10\")\n",
    "plt.xlabel(\"PC1\")\n",
    "plt.ylabel(\"PC2\")\n",
    "plt.show()"
   ]
  },
  {
   "cell_type": "code",
   "execution_count": null,
   "id": "95f3f982-5f54-4827-b81b-9586e9c453e2",
   "metadata": {},
   "outputs": [],
   "source": [
    "# Start with something simple\n",
    "db = DBSCAN(eps=2.5, min_samples=2).fit(X)\n",
    "labels = db.labels_  # array of cluster assignments\n",
    "\n",
    "# Visualize\n",
    "plt.scatter(X_proj[:, 0], X_proj[:, 1], c=labels, cmap='tab10')\n",
    "plt.title(\"DBSCAN clustering of mirrors in entry_10\")\n",
    "plt.xlabel(\"PC1\")\n",
    "plt.ylabel(\"PC2\")\n",
    "plt.colorbar(label=\"Cluster\")\n",
    "plt.show()"
   ]
  },
  {
   "cell_type": "code",
   "execution_count": null,
   "id": "5d4deaea-0851-43fd-b95f-eb7b7d483aad",
   "metadata": {},
   "outputs": [],
   "source": [
    "set(labels)"
   ]
  },
  {
   "cell_type": "code",
   "execution_count": null,
   "id": "0307861b-9150-42b7-97c1-0570b9355885",
   "metadata": {},
   "outputs": [],
   "source": [
    "np.where(labels == -1)"
   ]
  },
  {
   "cell_type": "code",
   "execution_count": null,
   "id": "48ea37d9-f85f-44b2-b0e0-109dd67a5bba",
   "metadata": {},
   "outputs": [],
   "source": [
    "labels.shape"
   ]
  },
  {
   "cell_type": "code",
   "execution_count": null,
   "id": "d1c18d1e-24c4-4ac6-af40-32e1763ea2af",
   "metadata": {},
   "outputs": [],
   "source": [
    "f = h5py.File(H5_PATH, \"r\")\n",
    "add_box_around_mirror(f[\"images\"][entry_id][\"image\"][:], [20, 30])\n",
    "f.close()"
   ]
  },
  {
   "cell_type": "code",
   "execution_count": null,
   "id": "44d62929-3e7e-43b5-ac30-b93c825e2c81",
   "metadata": {},
   "outputs": [],
   "source": [
    "f = h5py.File(H5_PATH, \"r\")\n",
    "add_box_around_mirror_with_color(f[\"images\"][entry_id][\"image\"][:], [20, 30], \"red\")\n",
    "f.close()"
   ]
  },
  {
   "cell_type": "code",
   "execution_count": null,
   "id": "acf6c2eb-4b7c-4034-b46c-2be549a452dd",
   "metadata": {},
   "outputs": [],
   "source": [
    "f = h5py.File(H5_PATH, \"r\")"
   ]
  },
  {
   "cell_type": "code",
   "execution_count": null,
   "id": "4b3518c6-5f15-4f5c-ba98-2da9eed76940",
   "metadata": {},
   "outputs": [],
   "source": [
    "f.keys()"
   ]
  },
  {
   "cell_type": "code",
   "execution_count": null,
   "id": "0e545f81-f850-459e-b21c-50009ef20a6a",
   "metadata": {},
   "outputs": [],
   "source": [
    "f[\"images\"][\"entry_0\"].keys()"
   ]
  },
  {
   "cell_type": "code",
   "execution_count": null,
   "id": "c01542f7-c5d9-4d82-81f2-9f65c303cce5",
   "metadata": {},
   "outputs": [],
   "source": [
    "for m in f[\"images\"][\"entry_0\"][\"mirrors\"].keys():\n",
    "    print(m)\n",
    "    print(m.split(\"_\")[1])"
   ]
  },
  {
   "cell_type": "code",
   "execution_count": null,
   "id": "aed4cebe-8b84-4d10-8351-081eb5243162",
   "metadata": {},
   "outputs": [],
   "source": []
  }
 ],
 "metadata": {
  "kernelspec": {
   "display_name": "Python 3 (ipykernel)",
   "language": "python",
   "name": "python3"
  },
  "language_info": {
   "codemirror_mode": {
    "name": "ipython",
    "version": 3
   },
   "file_extension": ".py",
   "mimetype": "text/x-python",
   "name": "python",
   "nbconvert_exporter": "python",
   "pygments_lexer": "ipython3",
   "version": "3.12.11"
  }
 },
 "nbformat": 4,
 "nbformat_minor": 5
}
